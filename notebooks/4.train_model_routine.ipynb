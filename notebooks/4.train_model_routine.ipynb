{
 "cells": [
  {
   "cell_type": "markdown",
   "id": "c55b39ab-ceb5-429a-af2e-da91599d98c9",
   "metadata": {},
   "source": [
    "# Toxic Comment Classification Challenge\n",
    "# Model Training Routine"
   ]
  },
  {
   "cell_type": "markdown",
   "id": "94ae3c97-991f-4bac-951a-6bf97d1caf9c",
   "metadata": {},
   "source": [
    "This notebook outlines the complete model training process for the toxic comment classification task. It begins with loading the dataset, followed by splitting the data into training, validation, and test sets. We also calculate class weights to address data imbalance and improve model performance across all toxicity categories.\n",
    "\n",
    "Next, the learning rate finder is employed to determine the optimal learning rate for training. Once the model is trained, we evaluate its performance using metrics, including accuracy, recall and F1 score."
   ]
  },
  {
   "cell_type": "markdown",
   "id": "b6be3da5-4bf1-41b3-88cf-bf83cf730eec",
   "metadata": {},
   "source": [
    "## Environment Setup and Data Loading"
   ]
  },
  {
   "cell_type": "code",
   "execution_count": 1,
   "id": "2575a1a8-6aa4-4857-821d-1647fdb11a68",
   "metadata": {},
   "outputs": [
    {
     "name": "stderr",
     "output_type": "stream",
     "text": [
      "Since the GPL-licensed package `unidecode` is not installed, using Python's `unicodedata` package which yields worse results.\n"
     ]
    },
    {
     "name": "stdout",
     "output_type": "stream",
     "text": [
      "cuda:0\n"
     ]
    },
    {
     "name": "stderr",
     "output_type": "stream",
     "text": [
      "[nltk_data] Downloading package stopwords to\n",
      "[nltk_data]     C:\\Users\\MiestoMeska\\AppData\\Roaming\\nltk_data...\n",
      "[nltk_data]   Package stopwords is already up-to-date!\n",
      "[nltk_data] Downloading package wordnet to\n",
      "[nltk_data]     C:\\Users\\MiestoMeska\\AppData\\Roaming\\nltk_data...\n",
      "[nltk_data]   Package wordnet is already up-to-date!\n"
     ]
    }
   ],
   "source": [
    "import os\n",
    "import sys\n",
    "\n",
    "import pandas as pd\n",
    "import numpy as np\n",
    "from tqdm import tqdm\n",
    "\n",
    "from sklearn.model_selection import train_test_split, StratifiedShuffleSplit\n",
    "from sklearn.utils import resample\n",
    "from sklearn.utils.class_weight import compute_class_weight\n",
    "\n",
    "import torch\n",
    "from transformers import DistilBertTokenizer\n",
    "from torch.utils.data import DataLoader, RandomSampler, SequentialSampler, Dataset\n",
    "import torch.optim as optim\n",
    "import pytorch_lightning as pl\n",
    "\n",
    "\n",
    "sys.path.append('../')\n",
    "from utils import compare_datasets, compute_toxic_nontoxic_weights\n",
    "from utils import CustomDataset\n",
    "from utils import Extended_Model\n",
    "from utils import Main_Model_Multihead\n",
    "from pytorch_lightning.callbacks import ModelCheckpoint, EarlyStopping\n",
    "\n",
    "import matplotlib.pyplot as plt\n",
    "\n",
    "from pytorch_lightning.loggers import TensorBoardLogger\n",
    "\n",
    "DEVICE = 'cuda:0' if torch.cuda.is_available() else 'cpu'\n",
    "print(DEVICE)"
   ]
  },
  {
   "cell_type": "code",
   "execution_count": 2,
   "id": "35cae7d1-3aa6-44d0-b57a-29fab9d1f730",
   "metadata": {},
   "outputs": [
    {
     "name": "stdout",
     "output_type": "stream",
     "text": [
      "                 id  toxic  severe_toxic  obscene  threat  insult  \\\n",
      "0  0000997932d777bf      0             0        0       0       0   \n",
      "1  000103f0d9cfb60f      0             0        0       0       0   \n",
      "2  000113f07ec002fd      0             0        0       0       0   \n",
      "3  0001b41b1c6bb37e      0             0        0       0       0   \n",
      "4  0001d958c54c6e35      0             0        0       0       0   \n",
      "\n",
      "   identity_hate                                       cleaned_text  \n",
      "0              0  explanation why the edits made under my userna...  \n",
      "1              0  daww he match this background colour i am seem...  \n",
      "2              0  hey man i am really not trying to edit war it ...  \n",
      "3              0  more i cannot make any real suggestion on impr...  \n",
      "4              0  you sir are my hero any chance you remember wh...  \n"
     ]
    }
   ],
   "source": [
    "train_data = pd.read_csv('../data/augmented_data.csv')\n",
    "print(train_data.head())"
   ]
  },
  {
   "cell_type": "code",
   "execution_count": 3,
   "id": "35fce1db-d009-404f-a030-7131e2b6dfbe",
   "metadata": {},
   "outputs": [],
   "source": [
    "train_data.drop(['id'], inplace=True, axis=1)"
   ]
  },
  {
   "cell_type": "code",
   "execution_count": 4,
   "id": "f441f4b5-98f2-408f-a34c-9147d8e46a8f",
   "metadata": {},
   "outputs": [],
   "source": [
    "train_data['is_toxic'] = train_data[['toxic', 'severe_toxic', 'obscene', 'threat', 'insult', 'identity_hate']].max(axis=1)"
   ]
  },
  {
   "cell_type": "code",
   "execution_count": 5,
   "id": "e475aa4b-7c4b-44e8-88f5-5b85607f5339",
   "metadata": {},
   "outputs": [],
   "source": [
    "binary_label_column = 'is_toxic'\n",
    "label_columns = ['toxic', 'severe_toxic', 'obscene', 'threat', 'insult', 'identity_hate']"
   ]
  },
  {
   "cell_type": "markdown",
   "id": "74de0ee4-f06e-4b28-8b54-b95372cb7945",
   "metadata": {},
   "source": [
    "## Splitting the Data"
   ]
  },
  {
   "cell_type": "markdown",
   "id": "604da9cd-0765-48fb-90b9-f370dc33fb18",
   "metadata": {},
   "source": [
    "We use StratifiedShuffleSplit to ensure that the distribution of toxic and non-toxic comments is consistent across all splits. The initial split separates the data into training and a temporary set, which is then further split into validation and test sets, resulting in a well-stratified dataset for training and evaluation.\n",
    "\n",
    "To address the imbalance between toxic and non-toxic comments in the training set, we undersample the non-toxic comments. By resampling the non-toxic class to match the number of toxic samples, we ensure a more balanced training set."
   ]
  },
  {
   "cell_type": "code",
   "execution_count": 6,
   "id": "a290ae42-d043-4957-8a1d-860f26d615e6",
   "metadata": {},
   "outputs": [],
   "source": [
    "torch.set_float32_matmul_precision('medium')"
   ]
  },
  {
   "cell_type": "code",
   "execution_count": 7,
   "id": "d4c35e63-ad1d-46a8-b0ab-268d26634b58",
   "metadata": {},
   "outputs": [
    {
     "name": "stdout",
     "output_type": "stream",
     "text": [
      "Training Dataset: (113140, 8)\n",
      "Validation Dataset: (24244, 8)\n",
      "Test Dataset: (24245, 8)\n"
     ]
    }
   ],
   "source": [
    "strat_split = StratifiedShuffleSplit(n_splits=1, test_size=0.3, random_state=123)\n",
    "\n",
    "for train_idx, temp_idx in strat_split.split(train_data, train_data['is_toxic']):\n",
    "    train_df = train_data.iloc[train_idx]\n",
    "    temp_df = train_data.iloc[temp_idx]\n",
    "\n",
    "val_test_split = StratifiedShuffleSplit(n_splits=1, test_size=0.5, random_state=123)\n",
    "\n",
    "for val_idx, test_idx in val_test_split.split(temp_df, temp_df['is_toxic']):\n",
    "    val_df = temp_df.iloc[val_idx]\n",
    "    test_df = temp_df.iloc[test_idx]\n",
    "\n",
    "train_df = train_df.reset_index(drop=True)\n",
    "val_df = val_df.reset_index(drop=True)\n",
    "test_df = test_df.reset_index(drop=True)\n",
    "\n",
    "print(f\"Training Dataset: {train_df.shape}\")\n",
    "print(f\"Validation Dataset: {val_df.shape}\")\n",
    "print(f\"Test Dataset: {test_df.shape}\")"
   ]
  },
  {
   "cell_type": "code",
   "execution_count": 8,
   "id": "b26d0191-98ca-41d3-ad60-8c7ed1e42dbc",
   "metadata": {},
   "outputs": [
    {
     "name": "stdout",
     "output_type": "stream",
     "text": [
      "Original Training Set Shape: (113140, 8)\n",
      "Undersampled Training Set Shape: (27580, 8)\n"
     ]
    }
   ],
   "source": [
    "toxic_df = train_df[train_df['is_toxic'] == 1]\n",
    "non_toxic_df = train_df[train_df['is_toxic'] == 0]\n",
    "\n",
    "undersampled_non_toxic_df = resample(non_toxic_df,\n",
    "                                     replace=False,\n",
    "                                     n_samples=len(toxic_df),\n",
    "                                     random_state=123)\n",
    "\n",
    "undersampled_train_df = pd.concat([toxic_df, undersampled_non_toxic_df])\n",
    "\n",
    "undersampled_train_df = undersampled_train_df.sample(frac=1, random_state=123).reset_index(drop=True)\n",
    "\n",
    "print(f\"Original Training Set Shape: {train_df.shape}\")\n",
    "print(f\"Undersampled Training Set Shape: {undersampled_train_df.shape}\")"
   ]
  },
  {
   "cell_type": "code",
   "execution_count": 9,
   "id": "bfa95439-5d5f-4ee2-a94d-74c83723fc27",
   "metadata": {},
   "outputs": [
    {
     "name": "stdout",
     "output_type": "stream",
     "text": [
      "\n",
      "--- Binary Toxic vs. Non-Toxic Distribution ---\n",
      "\n",
      "Training Set:\n",
      "is_toxic\n",
      "0    50.0\n",
      "1    50.0\n",
      "Name: proportion, dtype: float64\n",
      "\n",
      "Validation Set:\n",
      "is_toxic\n",
      "0    87.811417\n",
      "1    12.188583\n",
      "Name: proportion, dtype: float64\n",
      "\n",
      "Test Set:\n",
      "is_toxic\n",
      "0    87.81192\n",
      "1    12.18808\n",
      "Name: proportion, dtype: float64\n",
      "\n",
      "--- Distribution of Each Toxic Class ---\n",
      "\n",
      "Training Set:\n",
      "toxic            47.280638\n",
      "severe_toxic      8.404641\n",
      "obscene          28.448151\n",
      "threat            4.419869\n",
      "insult           26.870921\n",
      "identity_hate     7.403916\n",
      "dtype: float64\n",
      "\n",
      "Validation Set:\n",
      "toxic            11.495628\n",
      "severe_toxic      2.025243\n",
      "obscene           6.941924\n",
      "threat            1.002310\n",
      "insult            6.743937\n",
      "identity_hate     1.831381\n",
      "dtype: float64\n",
      "\n",
      "Test Set:\n",
      "toxic            11.420912\n",
      "severe_toxic      1.988039\n",
      "obscene           6.850897\n",
      "threat            1.142504\n",
      "insult            6.475562\n",
      "identity_hate     1.810683\n",
      "dtype: float64\n"
     ]
    }
   ],
   "source": [
    "compare_datasets(undersampled_train_df, val_df, test_df, label_columns)"
   ]
  },
  {
   "cell_type": "markdown",
   "id": "ff34dc72-4cd4-4cbd-903b-eaef54a80906",
   "metadata": {},
   "source": [
    "The data splitting and resampling process successfully balanced the training set for the binary toxic vs. non-toxic classification, resulting in an equal distribution (50% each). However, the validation and test sets maintain the original class imbalance, with approximately 12% toxic and 88% non-toxic comments, which reflects the real-world distribution.\n",
    "\n",
    "For the toxic subcategories, the training set is more balanced, though some categories like threat and identity hate still remain underrepresented. The validation and test sets retain the lower proportions of toxic subcategories, which is important for evaluating the model's ability to generalize. The balance achieved in the training data should help the model learn effectively across all toxicity classes, while the validation and test sets provide a realistic scenario for model evaluation."
   ]
  },
  {
   "cell_type": "markdown",
   "id": "c46b2f00-ed31-4a74-940c-bce44234f24f",
   "metadata": {},
   "source": [
    "## Class Weight Calculation"
   ]
  },
  {
   "cell_type": "markdown",
   "id": "e6708d44-0a66-4821-93cf-7bae263850c2",
   "metadata": {},
   "source": [
    "In this section, we calculate class weights to handle class imbalance for both the binary toxic vs. non-toxic classification and the multilabel toxic categories. The binary class weights are computed based on the balanced distribution of toxic and non-toxic comments in the undersampled training data. Additionally, for the toxic-only samples, we calculate class weights for each of the six toxic labels to ensure the model places more emphasis on the underrepresented classes during training."
   ]
  },
  {
   "cell_type": "code",
   "execution_count": 10,
   "id": "a77c7fe6-0bab-47c4-af30-813069a2da67",
   "metadata": {},
   "outputs": [
    {
     "name": "stdout",
     "output_type": "stream",
     "text": [
      "Binary Class Weights (Toxic vs Non-Toxic): tensor([1., 1.])\n",
      "Multilabel Class Weights (Toxic Comments Only): tensor([0.5288, 2.9745, 0.8788, 5.6563, 0.9304, 3.3766])\n"
     ]
    }
   ],
   "source": [
    "label_columns = ['toxic', 'severe_toxic', 'obscene', 'threat', 'insult', 'identity_hate']\n",
    "\n",
    "binary_class_weights = compute_class_weight(\n",
    "    class_weight='balanced',\n",
    "    classes=np.array([0, 1]),\n",
    "    y=undersampled_train_df['is_toxic']\n",
    ")\n",
    "\n",
    "binary_weights_tensor = torch.tensor(binary_class_weights, dtype=torch.float32)\n",
    "print(\"Binary Class Weights (Toxic vs Non-Toxic):\", binary_weights_tensor)\n",
    "\n",
    "toxic_samples = undersampled_train_df[undersampled_train_df['is_toxic'] == 1]\n",
    "\n",
    "multilabel_class_weights = {}\n",
    "for label in label_columns:\n",
    "    multilabel_class_weights[label] = compute_class_weight(\n",
    "        class_weight='balanced',\n",
    "        classes=np.array([0, 1]),\n",
    "        y=toxic_samples[label]\n",
    "    )\n",
    "\n",
    "class_weights_tensor = torch.tensor(\n",
    "    [multilabel_class_weights[label][1] for label in label_columns], dtype=torch.float32\n",
    ")\n",
    "print(\"Multilabel Class Weights (Toxic Comments Only):\", class_weights_tensor)"
   ]
  },
  {
   "cell_type": "markdown",
   "id": "770b4c7e-6b13-4d4c-a9ee-83ff2eeb3409",
   "metadata": {},
   "source": [
    "The binary class weights for toxic vs. non-toxic comments are balanced, indicating an equal representation in the undersampled training data. For the multilabel toxic classes, higher weights are assigned to underrepresented categories, reflecting the imbalance in their distribution."
   ]
  },
  {
   "cell_type": "markdown",
   "id": "495f12c3-5ac1-490b-86b4-f93f037afbc5",
   "metadata": {},
   "source": [
    "## Setting up Hyperparameters and  Data Loaders"
   ]
  },
  {
   "cell_type": "code",
   "execution_count": 11,
   "id": "3b2a5899-800a-419c-af0a-97f0e3890f67",
   "metadata": {},
   "outputs": [
    {
     "name": "stderr",
     "output_type": "stream",
     "text": [
      "C:\\Users\\MiestoMeska\\anaconda3\\envs\\TC_4\\lib\\site-packages\\transformers\\tokenization_utils_base.py:1601: FutureWarning: `clean_up_tokenization_spaces` was not set. It will be set to `True` by default. This behavior will be depracted in transformers v4.45, and will be then set to `False` by default. For more details check this issue: https://github.com/huggingface/transformers/issues/31884\n",
      "  warnings.warn(\n"
     ]
    }
   ],
   "source": [
    "tokenizer = DistilBertTokenizer.from_pretrained('distilbert-base-uncased')\n",
    "logger = TensorBoardLogger(\"tb_logs\", name=\"multihead_model\")\n",
    "\n",
    "hparams = {\n",
    "    'learning_rate': 1e-4,\n",
    "    'batch_size': 16,\n",
    "    'gradient_accumulation_steps': 32\n",
    "}\n",
    "\n",
    "max_len = 192\n",
    "num_workers=10\n",
    "\n",
    "text_column = 'cleaned_text'\n",
    "binary_label_column = 'is_toxic'\n",
    "\n",
    "train_dataset = CustomDataset(undersampled_train_df, tokenizer, max_len, label_columns, binary_label_column, text_column)\n",
    "val_dataset = CustomDataset(val_df, tokenizer, max_len, label_columns, binary_label_column, text_column)\n",
    "test_dataset = CustomDataset(test_df, tokenizer, max_len, label_columns, binary_label_column, text_column)\n",
    "\n",
    "train_loader = DataLoader(train_dataset, batch_size=hparams['batch_size'], shuffle=True, num_workers=num_workers, persistent_workers=True)\n",
    "val_loader = DataLoader(val_dataset, batch_size=hparams['batch_size'], shuffle=False, num_workers=num_workers, persistent_workers=True)\n",
    "test_loader = DataLoader(test_dataset, batch_size=hparams['batch_size'], shuffle=False, num_workers=num_workers, persistent_workers=True)\n"
   ]
  },
  {
   "cell_type": "markdown",
   "id": "ef31c6c7-8b90-4720-85b8-68324800cbb7",
   "metadata": {},
   "source": [
    "## Learning Rate Finder implementation"
   ]
  },
  {
   "cell_type": "markdown",
   "id": "05df4919-8af9-47d2-bc49-ca0a12ffd097",
   "metadata": {},
   "source": [
    "In this section, we use the learning rate finder to determine the optimal learning rate for training our model. The PyTorch Lightning Tuner is used to conduct a learning rate search, testing various learning rates by observing how the loss changes during training. The plot shows a characteristic \"U-shape\" curve, indicating that the optimal learning rate is at the point where the loss starts to decrease before it rises again."
   ]
  },
  {
   "cell_type": "code",
   "execution_count": 12,
   "id": "a887e554-de4c-4f18-8f31-5b8fc9e51310",
   "metadata": {},
   "outputs": [],
   "source": [
    "def perform_lr_finder(model, trainer, train_loader, val_loader):\n",
    "    tuner = pl.tuner.Tuner(trainer)\n",
    "    lr_finder = tuner.lr_find(\n",
    "        model,\n",
    "        train_dataloaders=train_loader,\n",
    "        val_dataloaders=val_loader,\n",
    "        min_lr=1e-8,\n",
    "        max_lr=1e-1,\n",
    "        num_training=200\n",
    "    )\n",
    "\n",
    "    fig = lr_finder.plot(suggest=True)\n",
    "    plt.show()\n",
    "\n",
    "    suggested_lr = lr_finder.suggestion()\n",
    "    print(f\"Suggested Learning Rate: {suggested_lr}\")\n",
    "    \n",
    "    model.learning_rate = suggested_lr\n",
    "    \n",
    "    return suggested_lr"
   ]
  },
  {
   "cell_type": "code",
   "execution_count": 13,
   "id": "d1dd4dc7-eb07-4209-ae6b-a3f04f00930c",
   "metadata": {},
   "outputs": [
    {
     "name": "stderr",
     "output_type": "stream",
     "text": [
      "GPU available: True (cuda), used: True\n",
      "TPU available: False, using: 0 TPU cores\n",
      "HPU available: False, using: 0 HPUs\n",
      "LOCAL_RANK: 0 - CUDA_VISIBLE_DEVICES: [0]\n",
      "C:\\Users\\MiestoMeska\\anaconda3\\envs\\TC_4\\lib\\site-packages\\torchmetrics\\utilities\\prints.py:43: UserWarning: The ``compute`` method of metric MultilabelAccuracy was called before the ``update`` method which may lead to errors, as metric states have not yet been updated.\n",
      "  warnings.warn(*args, **kwargs)  # noqa: B028\n",
      "C:\\Users\\MiestoMeska\\anaconda3\\envs\\TC_4\\lib\\site-packages\\torchmetrics\\utilities\\prints.py:43: UserWarning: The ``compute`` method of metric MultilabelF1Score was called before the ``update`` method which may lead to errors, as metric states have not yet been updated.\n",
      "  warnings.warn(*args, **kwargs)  # noqa: B028\n"
     ]
    },
    {
     "data": {
      "application/vnd.jupyter.widget-view+json": {
       "model_id": "b9f5e0206d2448b08952856ee32143f0",
       "version_major": 2,
       "version_minor": 0
      },
      "text/plain": [
       "Finding best initial lr:   0%|          | 0/200 [00:00<?, ?it/s]"
      ]
     },
     "metadata": {},
     "output_type": "display_data"
    },
    {
     "name": "stderr",
     "output_type": "stream",
     "text": [
      "`Trainer.fit` stopped: `max_steps=200` reached.\n",
      "Learning rate set to 0.0006237348354824198\n",
      "Restoring states from the checkpoint path at C:\\Users\\MiestoMeska\\Desktop\\Mokslai\\TC\\Module4\\Sprint_2\\Project\\vruzga-DL.2.5\\notebooks\\.lr_find_d7b06bea-6d1d-45a1-b0d5-18ff2b9e4da9.ckpt\n",
      "Restored all states from the checkpoint at C:\\Users\\MiestoMeska\\Desktop\\Mokslai\\TC\\Module4\\Sprint_2\\Project\\vruzga-DL.2.5\\notebooks\\.lr_find_d7b06bea-6d1d-45a1-b0d5-18ff2b9e4da9.ckpt\n"
     ]
    },
    {
     "data": {
      "image/png": "[encoded data removed]",
      "text/plain": [
       "<Figure size 640x480 with 1 Axes>"
      ]
     },
     "metadata": {},
     "output_type": "display_data"
    },
    {
     "name": "stdout",
     "output_type": "stream",
     "text": [
      "Suggested Learning Rate: 0.0006237348354824198\n"
     ]
    }
   ],
   "source": [
    "multihead_model = Main_Model_Multihead(\n",
    "    freeze_base=True,\n",
    "    num_labels=6,\n",
    "    learning_rate=1e-5,\n",
    "    class_weights=class_weights_tensor,\n",
    "    binary_weights=binary_weights_tensor[1:]\n",
    ")\n",
    "\n",
    "trainer = pl.Trainer(\n",
    "    logger=logger,\n",
    "    accumulate_grad_batches=hparams['gradient_accumulation_steps'],\n",
    "    max_epochs=9,\n",
    "    enable_checkpointing=False,\n",
    "    enable_progress_bar=False\n",
    ")\n",
    "\n",
    "suggested_lr = perform_lr_finder(multihead_model, trainer, train_loader, val_loader)"
   ]
  },
  {
   "cell_type": "markdown",
   "id": "670618b3-35c0-43c8-ab1d-43d52004616c",
   "metadata": {},
   "source": [
    "## Model training setup with Callbacks"
   ]
  },
  {
   "cell_type": "markdown",
   "id": "c146ca2f-376b-4835-81ab-199e549f3dbe",
   "metadata": {},
   "source": [
    "In this section, we set up the checkpointing and early stopping mechanisms to monitor and save the best models during training. We implement two checkpoint callbacks: one for monitoring the binary classification performance (based on the val_binary_f1 score) and another for monitoring the multi-label classification performance (based on the val_multilabel_f1 score)."
   ]
  },
  {
   "cell_type": "code",
   "execution_count": 14,
   "id": "2f0ac391-7ac1-4874-a2b9-52ba3552453d",
   "metadata": {},
   "outputs": [
    {
     "name": "stderr",
     "output_type": "stream",
     "text": [
      "GPU available: True (cuda), used: True\n",
      "TPU available: False, using: 0 TPU cores\n",
      "HPU available: False, using: 0 HPUs\n",
      "C:\\Users\\MiestoMeska\\anaconda3\\envs\\TC_4\\lib\\site-packages\\pytorch_lightning\\callbacks\\model_checkpoint.py:654: Checkpoint directory C:\\Users\\MiestoMeska\\Desktop\\Mokslai\\TC\\Module4\\Sprint_2\\Project\\vruzga-DL.2.5\\models\\multihead exists and is not empty.\n",
      "LOCAL_RANK: 0 - CUDA_VISIBLE_DEVICES: [0]\n",
      "\n",
      "   | Name                      | Type               | Params | Mode \n",
      "--------------------------------------------------------------------------\n",
      "0  | bert                      | DistilBertModel    | 66.4 M | eval \n",
      "1  | binary_classifier         | Sequential         | 558 K  | train\n",
      "2  | toxic_classifier          | Sequential         | 558 K  | train\n",
      "3  | severe_toxic_classifier   | Sequential         | 558 K  | train\n",
      "4  | obscene_classifier        | Sequential         | 558 K  | train\n",
      "5  | threat_classifier         | Sequential         | 558 K  | train\n",
      "6  | insult_classifier         | Sequential         | 558 K  | train\n",
      "7  | identity_hate_classifier  | Sequential         | 558 K  | train\n",
      "8  | binary_loss_fn            | BCEWithLogitsLoss  | 0      | train\n",
      "9  | train_binary_f1           | BinaryF1Score      | 0      | train\n",
      "10 | val_binary_f1             | BinaryF1Score      | 0      | train\n",
      "11 | train_binary_accuracy     | BinaryAccuracy     | 0      | train\n",
      "12 | val_binary_accuracy       | BinaryAccuracy     | 0      | train\n",
      "13 | train_multilabel_f1       | MultilabelF1Score  | 0      | train\n",
      "14 | val_multilabel_f1         | MultilabelF1Score  | 0      | train\n",
      "15 | train_multilabel_accuracy | MultilabelAccuracy | 0      | train\n",
      "16 | val_multilabel_accuracy   | MultilabelAccuracy | 0      | train\n",
      "--------------------------------------------------------------------------\n",
      "3.9 M     Trainable params\n",
      "66.4 M    Non-trainable params\n",
      "70.3 M    Total params\n",
      "281.078   Total estimated model params size (MB)\n",
      "79        Modules in train mode\n",
      "92        Modules in eval mode\n"
     ]
    },
    {
     "data": {
      "application/vnd.jupyter.widget-view+json": {
       "model_id": "",
       "version_major": 2,
       "version_minor": 0
      },
      "text/plain": [
       "Sanity Checking: |                                                                               | 0/? [00:00<…"
      ]
     },
     "metadata": {},
     "output_type": "display_data"
    },
    {
     "data": {
      "application/vnd.jupyter.widget-view+json": {
       "model_id": "b28c060440484e84abc7a37f27442154",
       "version_major": 2,
       "version_minor": 0
      },
      "text/plain": [
       "Training: |                                                                                      | 0/? [00:00<…"
      ]
     },
     "metadata": {},
     "output_type": "display_data"
    },
    {
     "data": {
      "application/vnd.jupyter.widget-view+json": {
       "model_id": "",
       "version_major": 2,
       "version_minor": 0
      },
      "text/plain": [
       "Validation: |                                                                                    | 0/? [00:00<…"
      ]
     },
     "metadata": {},
     "output_type": "display_data"
    },
    {
     "data": {
      "application/vnd.jupyter.widget-view+json": {
       "model_id": "",
       "version_major": 2,
       "version_minor": 0
      },
      "text/plain": [
       "Validation: |                                                                                    | 0/? [00:00<…"
      ]
     },
     "metadata": {},
     "output_type": "display_data"
    },
    {
     "data": {
      "application/vnd.jupyter.widget-view+json": {
       "model_id": "",
       "version_major": 2,
       "version_minor": 0
      },
      "text/plain": [
       "Validation: |                                                                                    | 0/? [00:00<…"
      ]
     },
     "metadata": {},
     "output_type": "display_data"
    },
    {
     "data": {
      "application/vnd.jupyter.widget-view+json": {
       "model_id": "",
       "version_major": 2,
       "version_minor": 0
      },
      "text/plain": [
       "Validation: |                                                                                    | 0/? [00:00<…"
      ]
     },
     "metadata": {},
     "output_type": "display_data"
    },
    {
     "data": {
      "application/vnd.jupyter.widget-view+json": {
       "model_id": "",
       "version_major": 2,
       "version_minor": 0
      },
      "text/plain": [
       "Validation: |                                                                                    | 0/? [00:00<…"
      ]
     },
     "metadata": {},
     "output_type": "display_data"
    },
    {
     "data": {
      "application/vnd.jupyter.widget-view+json": {
       "model_id": "",
       "version_major": 2,
       "version_minor": 0
      },
      "text/plain": [
       "Validation: |                                                                                    | 0/? [00:00<…"
      ]
     },
     "metadata": {},
     "output_type": "display_data"
    },
    {
     "data": {
      "application/vnd.jupyter.widget-view+json": {
       "model_id": "",
       "version_major": 2,
       "version_minor": 0
      },
      "text/plain": [
       "Validation: |                                                                                    | 0/? [00:00<…"
      ]
     },
     "metadata": {},
     "output_type": "display_data"
    },
    {
     "data": {
      "application/vnd.jupyter.widget-view+json": {
       "model_id": "",
       "version_major": 2,
       "version_minor": 0
      },
      "text/plain": [
       "Validation: |                                                                                    | 0/? [00:00<…"
      ]
     },
     "metadata": {},
     "output_type": "display_data"
    },
    {
     "data": {
      "application/vnd.jupyter.widget-view+json": {
       "model_id": "",
       "version_major": 2,
       "version_minor": 0
      },
      "text/plain": [
       "Validation: |                                                                                    | 0/? [00:00<…"
      ]
     },
     "metadata": {},
     "output_type": "display_data"
    },
    {
     "data": {
      "application/vnd.jupyter.widget-view+json": {
       "model_id": "",
       "version_major": 2,
       "version_minor": 0
      },
      "text/plain": [
       "Validation: |                                                                                    | 0/? [00:00<…"
      ]
     },
     "metadata": {},
     "output_type": "display_data"
    },
    {
     "data": {
      "application/vnd.jupyter.widget-view+json": {
       "model_id": "",
       "version_major": 2,
       "version_minor": 0
      },
      "text/plain": [
       "Validation: |                                                                                    | 0/? [00:00<…"
      ]
     },
     "metadata": {},
     "output_type": "display_data"
    },
    {
     "data": {
      "application/vnd.jupyter.widget-view+json": {
       "model_id": "",
       "version_major": 2,
       "version_minor": 0
      },
      "text/plain": [
       "Validation: |                                                                                    | 0/? [00:00<…"
      ]
     },
     "metadata": {},
     "output_type": "display_data"
    },
    {
     "data": {
      "application/vnd.jupyter.widget-view+json": {
       "model_id": "",
       "version_major": 2,
       "version_minor": 0
      },
      "text/plain": [
       "Validation: |                                                                                    | 0/? [00:00<…"
      ]
     },
     "metadata": {},
     "output_type": "display_data"
    },
    {
     "data": {
      "application/vnd.jupyter.widget-view+json": {
       "model_id": "",
       "version_major": 2,
       "version_minor": 0
      },
      "text/plain": [
       "Validation: |                                                                                    | 0/? [00:00<…"
      ]
     },
     "metadata": {},
     "output_type": "display_data"
    },
    {
     "data": {
      "application/vnd.jupyter.widget-view+json": {
       "model_id": "",
       "version_major": 2,
       "version_minor": 0
      },
      "text/plain": [
       "Validation: |                                                                                    | 0/? [00:00<…"
      ]
     },
     "metadata": {},
     "output_type": "display_data"
    },
    {
     "data": {
      "application/vnd.jupyter.widget-view+json": {
       "model_id": "",
       "version_major": 2,
       "version_minor": 0
      },
      "text/plain": [
       "Validation: |                                                                                    | 0/? [00:00<…"
      ]
     },
     "metadata": {},
     "output_type": "display_data"
    },
    {
     "data": {
      "application/vnd.jupyter.widget-view+json": {
       "model_id": "",
       "version_major": 2,
       "version_minor": 0
      },
      "text/plain": [
       "Validation: |                                                                                    | 0/? [00:00<…"
      ]
     },
     "metadata": {},
     "output_type": "display_data"
    },
    {
     "data": {
      "application/vnd.jupyter.widget-view+json": {
       "model_id": "",
       "version_major": 2,
       "version_minor": 0
      },
      "text/plain": [
       "Validation: |                                                                                    | 0/? [00:00<…"
      ]
     },
     "metadata": {},
     "output_type": "display_data"
    },
    {
     "data": {
      "application/vnd.jupyter.widget-view+json": {
       "model_id": "",
       "version_major": 2,
       "version_minor": 0
      },
      "text/plain": [
       "Validation: |                                                                                    | 0/? [00:00<…"
      ]
     },
     "metadata": {},
     "output_type": "display_data"
    },
    {
     "data": {
      "application/vnd.jupyter.widget-view+json": {
       "model_id": "",
       "version_major": 2,
       "version_minor": 0
      },
      "text/plain": [
       "Validation: |                                                                                    | 0/? [00:00<…"
      ]
     },
     "metadata": {},
     "output_type": "display_data"
    },
    {
     "data": {
      "application/vnd.jupyter.widget-view+json": {
       "model_id": "",
       "version_major": 2,
       "version_minor": 0
      },
      "text/plain": [
       "Validation: |                                                                                    | 0/? [00:00<…"
      ]
     },
     "metadata": {},
     "output_type": "display_data"
    },
    {
     "data": {
      "application/vnd.jupyter.widget-view+json": {
       "model_id": "",
       "version_major": 2,
       "version_minor": 0
      },
      "text/plain": [
       "Validation: |                                                                                    | 0/? [00:00<…"
      ]
     },
     "metadata": {},
     "output_type": "display_data"
    },
    {
     "data": {
      "application/vnd.jupyter.widget-view+json": {
       "model_id": "",
       "version_major": 2,
       "version_minor": 0
      },
      "text/plain": [
       "Validation: |                                                                                    | 0/? [00:00<…"
      ]
     },
     "metadata": {},
     "output_type": "display_data"
    },
    {
     "data": {
      "application/vnd.jupyter.widget-view+json": {
       "model_id": "",
       "version_major": 2,
       "version_minor": 0
      },
      "text/plain": [
       "Validation: |                                                                                    | 0/? [00:00<…"
      ]
     },
     "metadata": {},
     "output_type": "display_data"
    },
    {
     "data": {
      "application/vnd.jupyter.widget-view+json": {
       "model_id": "",
       "version_major": 2,
       "version_minor": 0
      },
      "text/plain": [
       "Validation: |                                                                                    | 0/? [00:00<…"
      ]
     },
     "metadata": {},
     "output_type": "display_data"
    },
    {
     "data": {
      "application/vnd.jupyter.widget-view+json": {
       "model_id": "",
       "version_major": 2,
       "version_minor": 0
      },
      "text/plain": [
       "Validation: |                                                                                    | 0/? [00:00<…"
      ]
     },
     "metadata": {},
     "output_type": "display_data"
    },
    {
     "data": {
      "application/vnd.jupyter.widget-view+json": {
       "model_id": "",
       "version_major": 2,
       "version_minor": 0
      },
      "text/plain": [
       "Validation: |                                                                                    | 0/? [00:00<…"
      ]
     },
     "metadata": {},
     "output_type": "display_data"
    },
    {
     "data": {
      "application/vnd.jupyter.widget-view+json": {
       "model_id": "",
       "version_major": 2,
       "version_minor": 0
      },
      "text/plain": [
       "Validation: |                                                                                    | 0/? [00:00<…"
      ]
     },
     "metadata": {},
     "output_type": "display_data"
    },
    {
     "data": {
      "application/vnd.jupyter.widget-view+json": {
       "model_id": "",
       "version_major": 2,
       "version_minor": 0
      },
      "text/plain": [
       "Validation: |                                                                                    | 0/? [00:00<…"
      ]
     },
     "metadata": {},
     "output_type": "display_data"
    },
    {
     "data": {
      "application/vnd.jupyter.widget-view+json": {
       "model_id": "",
       "version_major": 2,
       "version_minor": 0
      },
      "text/plain": [
       "Validation: |                                                                                    | 0/? [00:00<…"
      ]
     },
     "metadata": {},
     "output_type": "display_data"
    },
    {
     "data": {
      "application/vnd.jupyter.widget-view+json": {
       "model_id": "",
       "version_major": 2,
       "version_minor": 0
      },
      "text/plain": [
       "Validation: |                                                                                    | 0/? [00:00<…"
      ]
     },
     "metadata": {},
     "output_type": "display_data"
    },
    {
     "data": {
      "application/vnd.jupyter.widget-view+json": {
       "model_id": "",
       "version_major": 2,
       "version_minor": 0
      },
      "text/plain": [
       "Validation: |                                                                                    | 0/? [00:00<…"
      ]
     },
     "metadata": {},
     "output_type": "display_data"
    },
    {
     "data": {
      "application/vnd.jupyter.widget-view+json": {
       "model_id": "",
       "version_major": 2,
       "version_minor": 0
      },
      "text/plain": [
       "Validation: |                                                                                    | 0/? [00:00<…"
      ]
     },
     "metadata": {},
     "output_type": "display_data"
    },
    {
     "data": {
      "application/vnd.jupyter.widget-view+json": {
       "model_id": "",
       "version_major": 2,
       "version_minor": 0
      },
      "text/plain": [
       "Validation: |                                                                                    | 0/? [00:00<…"
      ]
     },
     "metadata": {},
     "output_type": "display_data"
    },
    {
     "data": {
      "application/vnd.jupyter.widget-view+json": {
       "model_id": "",
       "version_major": 2,
       "version_minor": 0
      },
      "text/plain": [
       "Validation: |                                                                                    | 0/? [00:00<…"
      ]
     },
     "metadata": {},
     "output_type": "display_data"
    },
    {
     "data": {
      "application/vnd.jupyter.widget-view+json": {
       "model_id": "",
       "version_major": 2,
       "version_minor": 0
      },
      "text/plain": [
       "Validation: |                                                                                    | 0/? [00:00<…"
      ]
     },
     "metadata": {},
     "output_type": "display_data"
    },
    {
     "data": {
      "application/vnd.jupyter.widget-view+json": {
       "model_id": "",
       "version_major": 2,
       "version_minor": 0
      },
      "text/plain": [
       "Validation: |                                                                                    | 0/? [00:00<…"
      ]
     },
     "metadata": {},
     "output_type": "display_data"
    },
    {
     "data": {
      "application/vnd.jupyter.widget-view+json": {
       "model_id": "",
       "version_major": 2,
       "version_minor": 0
      },
      "text/plain": [
       "Validation: |                                                                                    | 0/? [00:00<…"
      ]
     },
     "metadata": {},
     "output_type": "display_data"
    },
    {
     "data": {
      "application/vnd.jupyter.widget-view+json": {
       "model_id": "",
       "version_major": 2,
       "version_minor": 0
      },
      "text/plain": [
       "Validation: |                                                                                    | 0/? [00:00<…"
      ]
     },
     "metadata": {},
     "output_type": "display_data"
    },
    {
     "data": {
      "application/vnd.jupyter.widget-view+json": {
       "model_id": "",
       "version_major": 2,
       "version_minor": 0
      },
      "text/plain": [
       "Validation: |                                                                                    | 0/? [00:00<…"
      ]
     },
     "metadata": {},
     "output_type": "display_data"
    },
    {
     "data": {
      "application/vnd.jupyter.widget-view+json": {
       "model_id": "",
       "version_major": 2,
       "version_minor": 0
      },
      "text/plain": [
       "Validation: |                                                                                    | 0/? [00:00<…"
      ]
     },
     "metadata": {},
     "output_type": "display_data"
    },
    {
     "data": {
      "application/vnd.jupyter.widget-view+json": {
       "model_id": "",
       "version_major": 2,
       "version_minor": 0
      },
      "text/plain": [
       "Validation: |                                                                                    | 0/? [00:00<…"
      ]
     },
     "metadata": {},
     "output_type": "display_data"
    },
    {
     "data": {
      "application/vnd.jupyter.widget-view+json": {
       "model_id": "",
       "version_major": 2,
       "version_minor": 0
      },
      "text/plain": [
       "Validation: |                                                                                    | 0/? [00:00<…"
      ]
     },
     "metadata": {},
     "output_type": "display_data"
    },
    {
     "data": {
      "application/vnd.jupyter.widget-view+json": {
       "model_id": "",
       "version_major": 2,
       "version_minor": 0
      },
      "text/plain": [
       "Validation: |                                                                                    | 0/? [00:00<…"
      ]
     },
     "metadata": {},
     "output_type": "display_data"
    },
    {
     "data": {
      "application/vnd.jupyter.widget-view+json": {
       "model_id": "",
       "version_major": 2,
       "version_minor": 0
      },
      "text/plain": [
       "Validation: |                                                                                    | 0/? [00:00<…"
      ]
     },
     "metadata": {},
     "output_type": "display_data"
    },
    {
     "data": {
      "application/vnd.jupyter.widget-view+json": {
       "model_id": "",
       "version_major": 2,
       "version_minor": 0
      },
      "text/plain": [
       "Validation: |                                                                                    | 0/? [00:00<…"
      ]
     },
     "metadata": {},
     "output_type": "display_data"
    },
    {
     "data": {
      "application/vnd.jupyter.widget-view+json": {
       "model_id": "",
       "version_major": 2,
       "version_minor": 0
      },
      "text/plain": [
       "Validation: |                                                                                    | 0/? [00:00<…"
      ]
     },
     "metadata": {},
     "output_type": "display_data"
    },
    {
     "data": {
      "application/vnd.jupyter.widget-view+json": {
       "model_id": "ff7e70e3e81e416f9d36d179ed9d36b4",
       "version_major": 2,
       "version_minor": 0
      },
      "text/plain": [
       "Validation: |                                                                                    | 0/? [00:00<…"
      ]
     },
     "metadata": {},
     "output_type": "display_data"
    },
    {
     "data": {
      "application/vnd.jupyter.widget-view+json": {
       "model_id": "e075409dbeb7485fad007e46bd19dee4",
       "version_major": 2,
       "version_minor": 0
      },
      "text/plain": [
       "Validation: |                                                                                    | 0/? [00:00<…"
      ]
     },
     "metadata": {},
     "output_type": "display_data"
    },
    {
     "data": {
      "application/vnd.jupyter.widget-view+json": {
       "model_id": "19e5fd2f1d514d54a6b239088bbdd5c2",
       "version_major": 2,
       "version_minor": 0
      },
      "text/plain": [
       "Validation: |                                                                                    | 0/? [00:00<…"
      ]
     },
     "metadata": {},
     "output_type": "display_data"
    },
    {
     "data": {
      "application/vnd.jupyter.widget-view+json": {
       "model_id": "c5ed500635c844d58624b5046725ffb9",
       "version_major": 2,
       "version_minor": 0
      },
      "text/plain": [
       "Validation: |                                                                                    | 0/? [00:00<…"
      ]
     },
     "metadata": {},
     "output_type": "display_data"
    },
    {
     "data": {
      "application/vnd.jupyter.widget-view+json": {
       "model_id": "e12e917c64024ec9a4dac325346f14fa",
       "version_major": 2,
       "version_minor": 0
      },
      "text/plain": [
       "Validation: |                                                                                    | 0/? [00:00<…"
      ]
     },
     "metadata": {},
     "output_type": "display_data"
    },
    {
     "data": {
      "application/vnd.jupyter.widget-view+json": {
       "model_id": "0eef91d4fdaa43bdacc6cfaa57c8b228",
       "version_major": 2,
       "version_minor": 0
      },
      "text/plain": [
       "Validation: |                                                                                    | 0/? [00:00<…"
      ]
     },
     "metadata": {},
     "output_type": "display_data"
    },
    {
     "data": {
      "application/vnd.jupyter.widget-view+json": {
       "model_id": "6c6df39294ca4fbf90502956f775284b",
       "version_major": 2,
       "version_minor": 0
      },
      "text/plain": [
       "Validation: |                                                                                    | 0/? [00:00<…"
      ]
     },
     "metadata": {},
     "output_type": "display_data"
    },
    {
     "data": {
      "application/vnd.jupyter.widget-view+json": {
       "model_id": "b870e8e7119246998455f75b3c4cbbf8",
       "version_major": 2,
       "version_minor": 0
      },
      "text/plain": [
       "Validation: |                                                                                    | 0/? [00:00<…"
      ]
     },
     "metadata": {},
     "output_type": "display_data"
    },
    {
     "data": {
      "application/vnd.jupyter.widget-view+json": {
       "model_id": "172b56bc376841e09e21e0f2108f85b6",
       "version_major": 2,
       "version_minor": 0
      },
      "text/plain": [
       "Validation: |                                                                                    | 0/? [00:00<…"
      ]
     },
     "metadata": {},
     "output_type": "display_data"
    },
    {
     "data": {
      "application/vnd.jupyter.widget-view+json": {
       "model_id": "8a3967e61c414c889e44e864688d956e",
       "version_major": 2,
       "version_minor": 0
      },
      "text/plain": [
       "Validation: |                                                                                    | 0/? [00:00<…"
      ]
     },
     "metadata": {},
     "output_type": "display_data"
    },
    {
     "data": {
      "application/vnd.jupyter.widget-view+json": {
       "model_id": "85ae1617a69a4a499883a2c12fc68def",
       "version_major": 2,
       "version_minor": 0
      },
      "text/plain": [
       "Validation: |                                                                                    | 0/? [00:00<…"
      ]
     },
     "metadata": {},
     "output_type": "display_data"
    },
    {
     "data": {
      "application/vnd.jupyter.widget-view+json": {
       "model_id": "2981f1544e1c434ea3efd5ae21fdc4d9",
       "version_major": 2,
       "version_minor": 0
      },
      "text/plain": [
       "Validation: |                                                                                    | 0/? [00:00<…"
      ]
     },
     "metadata": {},
     "output_type": "display_data"
    },
    {
     "data": {
      "application/vnd.jupyter.widget-view+json": {
       "model_id": "782cdd9737a446a6b039f5b852b1dc74",
       "version_major": 2,
       "version_minor": 0
      },
      "text/plain": [
       "Validation: |                                                                                    | 0/? [00:00<…"
      ]
     },
     "metadata": {},
     "output_type": "display_data"
    },
    {
     "data": {
      "application/vnd.jupyter.widget-view+json": {
       "model_id": "bf2884bd79fc4fe789f0f25ac30b5122",
       "version_major": 2,
       "version_minor": 0
      },
      "text/plain": [
       "Validation: |                                                                                    | 0/? [00:00<…"
      ]
     },
     "metadata": {},
     "output_type": "display_data"
    },
    {
     "data": {
      "image/png": "[encoded data removed]",
      "text/plain": [
       "<Figure size 1200x1800 with 6 Axes>"
      ]
     },
     "metadata": {},
     "output_type": "display_data"
    }
   ],
   "source": [
    "multihead_model.learning_rate = suggested_lr\n",
    "hparams['learning_rate'] = suggested_lr\n",
    "checkpoint_callback_binary = ModelCheckpoint(\n",
    "    monitor='val_binary_f1_epoch',\n",
    "    dirpath='../models/multihead/',\n",
    "    filename='multihead_best_binary',\n",
    "    save_top_k=1,\n",
    "    mode='max'\n",
    ")\n",
    "\n",
    "checkpoint_callback_multilabel = ModelCheckpoint(\n",
    "    monitor='val_multilabel_f1_epoch',\n",
    "    dirpath='../models/multihead/',\n",
    "    filename='multihead_best_multilabel',\n",
    "    save_top_k=1,\n",
    "    mode='max'\n",
    ")\n",
    "\n",
    "early_stopping_callback = EarlyStopping(\n",
    "    monitor='train_loss',\n",
    "    patience=10,\n",
    "    mode='min'\n",
    ")\n",
    "\n",
    "trainer = pl.Trainer(\n",
    "    logger=logger,\n",
    "    accumulate_grad_batches=hparams['gradient_accumulation_steps'],\n",
    "    max_epochs=99,\n",
    "    callbacks=[early_stopping_callback, checkpoint_callback_binary, checkpoint_callback_multilabel]\n",
    ")\n",
    "\n",
    "logger.log_hyperparams(hparams)\n",
    "trainer.fit(multihead_model, train_dataloaders=train_loader, val_dataloaders=val_loader)"
   ]
  },
  {
   "cell_type": "code",
   "execution_count": 16,
   "id": "f0eca939-9aa4-471b-9bce-97b951aca543",
   "metadata": {},
   "outputs": [
    {
     "name": "stdout",
     "output_type": "stream",
     "text": [
      "\n",
      "Binary Classification Metrics (Toxic vs Non-Toxic):\n",
      "Binary Confusion Matrix:\n",
      "[[19180  2109]\n",
      " [  258  2697]]\n",
      "Binary Classification Report:\n",
      "              precision    recall  f1-score   support\n",
      "\n",
      "         0.0       0.99      0.90      0.94     21289\n",
      "         1.0       0.56      0.91      0.70      2955\n",
      "\n",
      "    accuracy                           0.90     24244\n",
      "   macro avg       0.77      0.91      0.82     24244\n",
      "weighted avg       0.93      0.90      0.91     24244\n",
      "\n",
      "\n",
      "Multilabel Classification Metrics (Toxicity Classes):\n",
      "\n",
      "Confusion Matrix for toxic:\n",
      "[[20087  1370]\n",
      " [  407  2380]]\n",
      "Precision: 0.6347, Recall: 0.8540, F1-Score: 0.7282\n",
      "\n",
      "Confusion Matrix for severe_toxic:\n",
      "[[23367   386]\n",
      " [  135   356]]\n",
      "Precision: 0.4798, Recall: 0.7251, F1-Score: 0.5775\n",
      "\n",
      "Confusion Matrix for obscene:\n",
      "[[22192   369]\n",
      " [  400  1283]]\n",
      "Precision: 0.7766, Recall: 0.7623, F1-Score: 0.7694\n",
      "\n",
      "Confusion Matrix for threat:\n",
      "[[23796   205]\n",
      " [   39   204]]\n",
      "Precision: 0.4988, Recall: 0.8395, F1-Score: 0.6258\n",
      "\n",
      "Confusion Matrix for insult:\n",
      "[[22105   504]\n",
      " [  439  1196]]\n",
      "Precision: 0.7035, Recall: 0.7315, F1-Score: 0.7172\n",
      "\n",
      "Confusion Matrix for identity_hate:\n",
      "[[23415   385]\n",
      " [  135   309]]\n",
      "Precision: 0.4452, Recall: 0.6959, F1-Score: 0.5431\n"
     ]
    }
   ],
   "source": [
    "evaluate_model(val_loader, multihead_model)"
   ]
  }
 ],
 "metadata": {
  "kernelspec": {
   "display_name": "Python 3 (ipykernel)",
   "language": "python",
   "name": "python3"
  },
  "language_info": {
   "codemirror_mode": {
    "name": "ipython",
    "version": 3
   },
   "file_extension": ".py",
   "mimetype": "text/x-python",
   "name": "python",
   "nbconvert_exporter": "python",
   "pygments_lexer": "ipython3",
   "version": "3.10.14"
  }
 },
 "nbformat": 4,
 "nbformat_minor": 5
}
