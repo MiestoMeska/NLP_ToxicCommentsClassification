{
 "cells": [
  {
   "cell_type": "markdown",
   "id": "69bd2a04-57aa-47b2-9b59-426cb155306f",
   "metadata": {},
   "source": [
    "# Toxic Comment Classification Challenge\n",
    "# Base Model Training"
   ]
  },
  {
   "cell_type": "markdown",
   "id": "7b5f1f11-3b9e-4a50-8d20-0570799dbe08",
   "metadata": {},
   "source": [
    "## Introduction"
   ]
  },
  {
   "cell_type": "markdown",
   "id": "3248e762-d3ca-4886-87c2-9d489f00f0b2",
   "metadata": {},
   "source": [
    "In this notebook, we will train a baseline model to establish a reference point for model performance on the toxic comment classification task. The baseline will help us evaluate the effectiveness of future improvements."
   ]
  },
  {
   "cell_type": "markdown",
   "id": "61edabfa-73ff-41b6-863c-aa87e57154e8",
   "metadata": {},
   "source": [
    "### Environment and Data Setup"
   ]
  },
  {
   "cell_type": "code",
   "execution_count": 5,
   "id": "1a71a985-9d2c-481c-a7be-66f102945f19",
   "metadata": {},
   "outputs": [
    {
     "name": "stdout",
     "output_type": "stream",
     "text": [
      "cuda:0\n"
     ]
    }
   ],
   "source": [
    "import os\n",
    "import sys\n",
    "\n",
    "import pandas as pd\n",
    "\n",
    "from tqdm import tqdm\n",
    "\n",
    "from sklearn.model_selection import train_test_split, StratifiedShuffleSplit\n",
    "\n",
    "import torch\n",
    "from transformers import DistilBertTokenizer\n",
    "from torch.utils.data import DataLoader, RandomSampler, SequentialSampler\n",
    "import torch.optim as optim\n",
    "import pytorch_lightning as pl\n",
    "\n",
    "\n",
    "sys.path.append('../')\n",
    "from utils import compare_datasets, compute_class_weights, compute_toxic_nontoxic_weights\n",
    "from utils import MultiLabelDataset\n",
    "from utils import Base_Model\n",
    "from utils import Base_pl_Model\n",
    "from pytorch_lightning.callbacks import ModelCheckpoint, EarlyStopping\n",
    "\n",
    "import matplotlib.pyplot as plt\n",
    "\n",
    "DEVICE = 'cuda:0' if torch.cuda.is_available() else 'cpu'\n",
    "print(DEVICE)"
   ]
  },
  {
   "cell_type": "code",
   "execution_count": 2,
   "id": "69e6ecfa-3e28-4de8-87c5-bc7431c83bd1",
   "metadata": {},
   "outputs": [
    {
     "name": "stdout",
     "output_type": "stream",
     "text": [
      "                 id  toxic  severe_toxic  obscene  threat  insult  \\\n",
      "0  0000997932d777bf      0             0        0       0       0   \n",
      "1  000103f0d9cfb60f      0             0        0       0       0   \n",
      "2  000113f07ec002fd      0             0        0       0       0   \n",
      "3  0001b41b1c6bb37e      0             0        0       0       0   \n",
      "4  0001d958c54c6e35      0             0        0       0       0   \n",
      "\n",
      "   identity_hate                                       cleaned_text  \n",
      "0              0  explanation why the edits made under my userna...  \n",
      "1              0  daww he match this background colour i am seem...  \n",
      "2              0  hey man i am really not trying to edit war it ...  \n",
      "3              0  more i cannot make any real suggestion on impr...  \n",
      "4              0  you sir are my hero any chance you remember wh...  \n"
     ]
    }
   ],
   "source": [
    "train_data = pd.read_csv('../data/augmented_data.csv')\n",
    "print(train_data.head())"
   ]
  },
  {
   "cell_type": "code",
   "execution_count": 3,
   "id": "467c9315-0247-4b9c-bc9e-ef3264281256",
   "metadata": {},
   "outputs": [],
   "source": [
    "train_data.drop(['id'], inplace=True, axis=1)"
   ]
  },
  {
   "cell_type": "code",
   "execution_count": 4,
   "id": "4d1d00b8-e58c-47e0-8c0c-3bdb50a6ee2b",
   "metadata": {},
   "outputs": [
    {
     "name": "stdout",
     "output_type": "stream",
     "text": [
      "   toxic  severe_toxic  obscene  threat  insult  identity_hate  \\\n",
      "0      0             0        0       0       0              0   \n",
      "1      0             0        0       0       0              0   \n",
      "2      0             0        0       0       0              0   \n",
      "3      0             0        0       0       0              0   \n",
      "4      0             0        0       0       0              0   \n",
      "\n",
      "                                        cleaned_text  \n",
      "0  explanation why the edits made under my userna...  \n",
      "1  daww he match this background colour i am seem...  \n",
      "2  hey man i am really not trying to edit war it ...  \n",
      "3  more i cannot make any real suggestion on impr...  \n",
      "4  you sir are my hero any chance you remember wh...  \n"
     ]
    }
   ],
   "source": [
    "print(train_data.head())"
   ]
  },
  {
   "cell_type": "code",
   "execution_count": 5,
   "id": "c7ee3f2c-4deb-43f8-9e33-dc09fdd68d49",
   "metadata": {},
   "outputs": [
    {
     "name": "stdout",
     "output_type": "stream",
     "text": [
      "Original Dataset: (161629, 8)\n",
      "Training Dataset: (113140, 8)\n",
      "Validation Dataset: (24244, 8)\n",
      "Test Dataset: (24245, 8)\n"
     ]
    }
   ],
   "source": [
    "train_data['is_toxic'] = train_data[['toxic', 'severe_toxic', 'obscene', 'threat', 'insult', 'identity_hate']].max(axis=1)\n",
    "\n",
    "strat_split = StratifiedShuffleSplit(n_splits=1, test_size=0.3, random_state=123)\n",
    "\n",
    "for train_idx, temp_idx in strat_split.split(train_data, train_data['is_toxic']):\n",
    "    train_df = train_data.iloc[train_idx]\n",
    "    temp_df = train_data.iloc[temp_idx]\n",
    "\n",
    "val_test_split = StratifiedShuffleSplit(n_splits=1, test_size=0.5, random_state=123)\n",
    "\n",
    "for val_idx, test_idx in val_test_split.split(temp_df, temp_df['is_toxic']):\n",
    "    val_df = temp_df.iloc[val_idx]\n",
    "    test_df = temp_df.iloc[test_idx]\n",
    "\n",
    "train_df = train_df.reset_index(drop=True)\n",
    "val_df = val_df.reset_index(drop=True)\n",
    "test_df = test_df.reset_index(drop=True)\n",
    "\n",
    "print(f\"Original Dataset: {train_data.shape}\")\n",
    "print(f\"Training Dataset: {train_df.shape}\")\n",
    "print(f\"Validation Dataset: {val_df.shape}\")\n",
    "print(f\"Test Dataset: {test_df.shape}\")"
   ]
  },
  {
   "cell_type": "markdown",
   "id": "4afbfb33-7d71-4005-a691-9ecb08a08e70",
   "metadata": {},
   "source": [
    "#### Data Distributions in Dataframes"
   ]
  },
  {
   "cell_type": "code",
   "execution_count": 7,
   "id": "1bdacdec-c28e-4a90-be5e-e29001945ae0",
   "metadata": {},
   "outputs": [
    {
     "name": "stdout",
     "output_type": "stream",
     "text": [
      "\n",
      "--- Binary Toxic vs. Non-Toxic Distribution ---\n",
      "\n",
      "Training Set:\n",
      "is_toxic\n",
      "0    87.811561\n",
      "1    12.188439\n",
      "Name: proportion, dtype: float64\n",
      "\n",
      "Validation Set:\n",
      "is_toxic\n",
      "0    87.811417\n",
      "1    12.188583\n",
      "Name: proportion, dtype: float64\n",
      "\n",
      "Test Set:\n",
      "is_toxic\n",
      "0    87.81192\n",
      "1    12.18808\n",
      "Name: proportion, dtype: float64\n",
      "\n",
      "--- Distribution of Each Toxic Class ---\n",
      "\n",
      "Training Set:\n",
      "toxic            11.525544\n",
      "severe_toxic      2.048789\n",
      "obscene           6.934771\n",
      "threat            1.077426\n",
      "insult            6.550292\n",
      "identity_hate     1.804844\n",
      "dtype: float64\n",
      "\n",
      "Validation Set:\n",
      "toxic            11.495628\n",
      "severe_toxic      2.025243\n",
      "obscene           6.941924\n",
      "threat            1.002310\n",
      "insult            6.743937\n",
      "identity_hate     1.831381\n",
      "dtype: float64\n",
      "\n",
      "Test Set:\n",
      "toxic            11.420912\n",
      "severe_toxic      1.988039\n",
      "obscene           6.850897\n",
      "threat            1.142504\n",
      "insult            6.475562\n",
      "identity_hate     1.810683\n",
      "dtype: float64\n"
     ]
    }
   ],
   "source": [
    "label_columns = ['toxic', 'severe_toxic', 'obscene', 'threat', 'insult', 'identity_hate']\n",
    "compare_datasets(train_df, val_df, test_df, label_columns)"
   ]
  },
  {
   "cell_type": "markdown",
   "id": "bb4a8357-66b0-46f7-ab39-e247d065d056",
   "metadata": {},
   "source": [
    "#### Class Weights of Train Data"
   ]
  },
  {
   "cell_type": "code",
   "execution_count": 8,
   "id": "cb312d4c-3b33-4257-8850-1f71bea37a13",
   "metadata": {},
   "outputs": [
    {
     "name": "stdout",
     "output_type": "stream",
     "text": [
      "Class Weights: tensor([0.0369, 0.2074, 0.0613, 0.3943, 0.0649, 0.2354])\n",
      "Class Weights: tensor([0.1219, 0.8781])\n"
     ]
    }
   ],
   "source": [
    "label_columns = ['toxic', 'severe_toxic', 'obscene', 'threat', 'insult', 'identity_hate']\n",
    "class_weights_tensor = compute_class_weights(train_df, label_columns)\n",
    "toxic_weights_tensor = compute_toxic_nontoxic_weights(train_df, 'is_toxic')"
   ]
  },
  {
   "cell_type": "code",
   "execution_count": 9,
   "id": "fc4711ff-a99c-4345-b90d-65af33291dee",
   "metadata": {},
   "outputs": [],
   "source": [
    "train_data = train_data.drop(columns=['is_toxic'])"
   ]
  },
  {
   "cell_type": "code",
   "execution_count": null,
   "id": "b16741bd-e083-4c7f-89d3-1e19f71f186b",
   "metadata": {},
   "outputs": [],
   "source": [
    "tokenizer = DistilBertTokenizer.from_pretrained('distilbert-base-uncased')\n",
    "\n",
    "max_len = 128\n",
    "text_column = 'cleaned_text'\n",
    "\n",
    "train_dataset = MultiLabelDataset(train_df, tokenizer, max_len, label_columns, text_column)\n",
    "val_dataset = MultiLabelDataset(val_df, tokenizer, max_len, label_columns, text_column)\n",
    "test_dataset = MultiLabelDataset(test_df, tokenizer, max_len, label_columns, text_column)"
   ]
  },
  {
   "cell_type": "code",
   "execution_count": 11,
   "id": "b2e4795c-8838-4165-aaf5-06378a979fed",
   "metadata": {},
   "outputs": [],
   "source": [
    "batch_size = 64\n",
    "\n",
    "train_loader = DataLoader(train_dataset, batch_size=batch_size, sampler=RandomSampler(train_dataset), num_workers=4, persistent_workers=True)\n",
    "val_loader = DataLoader(val_dataset, batch_size=batch_size, sampler=SequentialSampler(val_dataset), num_workers=4, persistent_workers=True)\n",
    "test_loader = DataLoader(test_dataset, batch_size=batch_size, sampler=SequentialSampler(test_dataset), num_workers=4, persistent_workers=True)"
   ]
  },
  {
   "cell_type": "markdown",
   "id": "09893966-a83f-487c-a91c-e0313946ebfc",
   "metadata": {},
   "source": [
    "#### Model Init and Learning Rate Finder"
   ]
  },
  {
   "cell_type": "code",
   "execution_count": 12,
   "id": "dae0dd16-c2bd-44f9-8114-e614c79ab223",
   "metadata": {},
   "outputs": [],
   "source": [
    "model = Base_Model(freeze_base=True).to(DEVICE)\n",
    "optimizer = optim.AdamW(model.parameters(), lr=1e-9)"
   ]
  },
  {
   "cell_type": "code",
   "execution_count": 13,
   "id": "fee76863-529d-4d7a-bd4c-355b9c684bf1",
   "metadata": {},
   "outputs": [
    {
     "name": "stderr",
     "output_type": "stream",
     "text": [
      "GPU available: True (cuda), used: True\n",
      "TPU available: False, using: 0 TPU cores\n",
      "HPU available: False, using: 0 HPUs\n",
      "LOCAL_RANK: 0 - CUDA_VISIBLE_DEVICES: [0]\n",
      "C:\\Users\\MiestoMeska\\anaconda3\\envs\\TC_4\\lib\\site-packages\\torchmetrics\\utilities\\prints.py:43: UserWarning: No positive samples in targets, true positive value should be meaningless. Returning zero tensor in true positive score\n",
      "  warnings.warn(*args, **kwargs)  # noqa: B028\n"
     ]
    },
    {
     "data": {
      "application/vnd.jupyter.widget-view+json": {
       "model_id": "16e64cf625eb4e039efa1a14e4961f21",
       "version_major": 2,
       "version_minor": 0
      },
      "text/plain": [
       "Finding best initial lr:   0%|          | 0/100 [00:00<?, ?it/s]"
      ]
     },
     "metadata": {},
     "output_type": "display_data"
    },
    {
     "name": "stderr",
     "output_type": "stream",
     "text": [
      "`Trainer.fit` stopped: `max_steps=100` reached.\n",
      "Learning rate set to 0.00478630092322638\n",
      "Restoring states from the checkpoint path at C:\\Users\\MiestoMeska\\Desktop\\Mokslai\\TC\\Module4\\Sprint_2\\Project\\vruzga-DL.2.5\\notebooks\\.lr_find_11992d02-9703-44d4-9ee6-551320710a99.ckpt\n",
      "Restored all states from the checkpoint at C:\\Users\\MiestoMeska\\Desktop\\Mokslai\\TC\\Module4\\Sprint_2\\Project\\vruzga-DL.2.5\\notebooks\\.lr_find_11992d02-9703-44d4-9ee6-551320710a99.ckpt\n"
     ]
    },
    {
     "data": {
      "image/png": "[encoded data removed]",
      "text/plain": [
       "<Figure size 640x480 with 1 Axes>"
      ]
     },
     "metadata": {},
     "output_type": "display_data"
    },
    {
     "name": "stdout",
     "output_type": "stream",
     "text": [
      "Suggested Learning Rate: 0.00478630092322638\n"
     ]
    }
   ],
   "source": [
    "my_model = Base_pl_Model(\n",
    "    model=model,\n",
    "    num_labels=6,\n",
    "    learning_rate=1e-8,\n",
    "    model_name=\"baseline_freeze\",\n",
    "    class_weights=class_weights_tensor,\n",
    ")\n",
    "torch.set_float32_matmul_precision('high')\n",
    "\n",
    "trainer = pl.Trainer(\n",
    "    max_epochs=5,\n",
    "    enable_checkpointing=False,\n",
    "    enable_progress_bar=False,\n",
    "    logger=False\n",
    ")\n",
    "\n",
    "tuner = pl.tuner.Tuner(trainer)\n",
    "\n",
    "lr_finder = tuner.lr_find(my_model, train_loader, val_loader)\n",
    "\n",
    "fig = lr_finder.plot(suggest=True)\n",
    "plt.show()\n",
    "\n",
    "suggested_lr = lr_finder.suggestion()\n",
    "print(f\"Suggested Learning Rate: {suggested_lr}\")\n",
    "\n",
    "my_model.learning_rate = suggested_lr"
   ]
  },
  {
   "cell_type": "markdown",
   "id": "5ef09f9a-cee7-4def-87de-ca3515831eee",
   "metadata": {},
   "source": [
    "#### Model Training"
   ]
  },
  {
   "cell_type": "code",
   "execution_count": 14,
   "id": "ff884e3d-c223-46f1-a7f6-3cbab4b43d38",
   "metadata": {},
   "outputs": [
    {
     "name": "stderr",
     "output_type": "stream",
     "text": [
      "GPU available: True (cuda), used: True\n",
      "TPU available: False, using: 0 TPU cores\n",
      "HPU available: False, using: 0 HPUs\n",
      "C:\\Users\\MiestoMeska\\anaconda3\\envs\\TC_4\\lib\\site-packages\\pytorch_lightning\\trainer\\connectors\\logger_connector\\logger_connector.py:75: Starting from v1.9.0, `tensorboardX` has been removed as a dependency of the `pytorch_lightning` package, due to potential conflicts with other packages in the ML ecosystem. For this reason, `logger=True` will use `CSVLogger` as the default logger, unless the `tensorboard` or `tensorboardX` packages are found. Please `pip install lightning[extra]` or one of them to enable TensorBoard support by default\n"
     ]
    }
   ],
   "source": [
    "checkpoint_callback = ModelCheckpoint(\n",
    "    monitor='val_macro_f1',\n",
    "    dirpath='../models/baseline_model/', \n",
    "    filename='base_model_freezed', \n",
    "    save_top_k=1,  \n",
    "    mode='max',\n",
    "    save_last=True\n",
    ")\n",
    "\n",
    "early_stopping_callback = EarlyStopping(\n",
    "    monitor='val_macro_f1',\n",
    "    patience=6,\n",
    "    mode='max'\n",
    ")\n",
    "\n",
    "trainer = pl.Trainer(\n",
    "    max_epochs=99,\n",
    "    callbacks=[early_stopping_callback, checkpoint_callback], \n",
    "    check_val_every_n_epoch=1,\n",
    "    logger=True\n",
    ")\n"
   ]
  },
  {
   "cell_type": "code",
   "execution_count": 15,
   "id": "f5f5e08c-fb27-41b5-9ae4-fd1f1ad3d0de",
   "metadata": {},
   "outputs": [
    {
     "name": "stderr",
     "output_type": "stream",
     "text": [
      "C:\\Users\\MiestoMeska\\anaconda3\\envs\\TC_4\\lib\\site-packages\\pytorch_lightning\\callbacks\\model_checkpoint.py:654: Checkpoint directory C:\\Users\\MiestoMeska\\Desktop\\Mokslai\\TC\\Module4\\Sprint_2\\Project\\vruzga-DL.2.5\\models\\baseline_model exists and is not empty.\n",
      "LOCAL_RANK: 0 - CUDA_VISIBLE_DEVICES: [0]\n",
      "\n",
      "  | Name           | Type               | Params | Mode \n",
      "--------------------------------------------------------------\n",
      "0 | model          | Base_Model         | 66.4 M | train\n",
      "1 | train_macro_f1 | MultilabelF1Score  | 0      | train\n",
      "2 | val_macro_f1   | MultilabelF1Score  | 0      | train\n",
      "3 | test_macro_f1  | MultilabelF1Score  | 0      | train\n",
      "4 | loss_fn        | BCEWithLogitsLoss  | 0      | train\n",
      "5 | train_accuracy | MultilabelAccuracy | 0      | train\n",
      "6 | val_accuracy   | MultilabelAccuracy | 0      | train\n",
      "7 | test_accuracy  | MultilabelAccuracy | 0      | train\n",
      "8 | val_auroc      | MultilabelAUROC    | 0      | train\n",
      "9 | test_auroc     | MultilabelAUROC    | 0      | train\n",
      "--------------------------------------------------------------\n",
      "4.6 K     Trainable params\n",
      "66.4 M    Non-trainable params\n",
      "66.4 M    Total params\n",
      "265.470   Total estimated model params size (MB)\n",
      "12        Modules in train mode\n",
      "92        Modules in eval mode\n"
     ]
    },
    {
     "data": {
      "application/vnd.jupyter.widget-view+json": {
       "model_id": "",
       "version_major": 2,
       "version_minor": 0
      },
      "text/plain": [
       "Sanity Checking: |                                                                               | 0/? [00:00<…"
      ]
     },
     "metadata": {},
     "output_type": "display_data"
    },
    {
     "data": {
      "application/vnd.jupyter.widget-view+json": {
       "model_id": "231415571016477c874c16f5e838ba07",
       "version_major": 2,
       "version_minor": 0
      },
      "text/plain": [
       "Training: |                                                                                      | 0/? [00:00<…"
      ]
     },
     "metadata": {},
     "output_type": "display_data"
    },
    {
     "data": {
      "application/vnd.jupyter.widget-view+json": {
       "model_id": "",
       "version_major": 2,
       "version_minor": 0
      },
      "text/plain": [
       "Validation: |                                                                                    | 0/? [00:00<…"
      ]
     },
     "metadata": {},
     "output_type": "display_data"
    },
    {
     "data": {
      "application/vnd.jupyter.widget-view+json": {
       "model_id": "",
       "version_major": 2,
       "version_minor": 0
      },
      "text/plain": [
       "Validation: |                                                                                    | 0/? [00:00<…"
      ]
     },
     "metadata": {},
     "output_type": "display_data"
    },
    {
     "data": {
      "application/vnd.jupyter.widget-view+json": {
       "model_id": "",
       "version_major": 2,
       "version_minor": 0
      },
      "text/plain": [
       "Validation: |                                                                                    | 0/? [00:00<…"
      ]
     },
     "metadata": {},
     "output_type": "display_data"
    },
    {
     "data": {
      "application/vnd.jupyter.widget-view+json": {
       "model_id": "",
       "version_major": 2,
       "version_minor": 0
      },
      "text/plain": [
       "Validation: |                                                                                    | 0/? [00:00<…"
      ]
     },
     "metadata": {},
     "output_type": "display_data"
    },
    {
     "data": {
      "application/vnd.jupyter.widget-view+json": {
       "model_id": "",
       "version_major": 2,
       "version_minor": 0
      },
      "text/plain": [
       "Validation: |                                                                                    | 0/? [00:00<…"
      ]
     },
     "metadata": {},
     "output_type": "display_data"
    },
    {
     "data": {
      "application/vnd.jupyter.widget-view+json": {
       "model_id": "",
       "version_major": 2,
       "version_minor": 0
      },
      "text/plain": [
       "Validation: |                                                                                    | 0/? [00:00<…"
      ]
     },
     "metadata": {},
     "output_type": "display_data"
    },
    {
     "data": {
      "application/vnd.jupyter.widget-view+json": {
       "model_id": "",
       "version_major": 2,
       "version_minor": 0
      },
      "text/plain": [
       "Validation: |                                                                                    | 0/? [00:00<…"
      ]
     },
     "metadata": {},
     "output_type": "display_data"
    },
    {
     "data": {
      "application/vnd.jupyter.widget-view+json": {
       "model_id": "",
       "version_major": 2,
       "version_minor": 0
      },
      "text/plain": [
       "Validation: |                                                                                    | 0/? [00:00<…"
      ]
     },
     "metadata": {},
     "output_type": "display_data"
    },
    {
     "data": {
      "application/vnd.jupyter.widget-view+json": {
       "model_id": "",
       "version_major": 2,
       "version_minor": 0
      },
      "text/plain": [
       "Validation: |                                                                                    | 0/? [00:00<…"
      ]
     },
     "metadata": {},
     "output_type": "display_data"
    },
    {
     "data": {
      "application/vnd.jupyter.widget-view+json": {
       "model_id": "",
       "version_major": 2,
       "version_minor": 0
      },
      "text/plain": [
       "Validation: |                                                                                    | 0/? [00:00<…"
      ]
     },
     "metadata": {},
     "output_type": "display_data"
    },
    {
     "data": {
      "application/vnd.jupyter.widget-view+json": {
       "model_id": "",
       "version_major": 2,
       "version_minor": 0
      },
      "text/plain": [
       "Validation: |                                                                                    | 0/? [00:00<…"
      ]
     },
     "metadata": {},
     "output_type": "display_data"
    },
    {
     "data": {
      "application/vnd.jupyter.widget-view+json": {
       "model_id": "",
       "version_major": 2,
       "version_minor": 0
      },
      "text/plain": [
       "Validation: |                                                                                    | 0/? [00:00<…"
      ]
     },
     "metadata": {},
     "output_type": "display_data"
    },
    {
     "data": {
      "application/vnd.jupyter.widget-view+json": {
       "model_id": "",
       "version_major": 2,
       "version_minor": 0
      },
      "text/plain": [
       "Validation: |                                                                                    | 0/? [00:00<…"
      ]
     },
     "metadata": {},
     "output_type": "display_data"
    },
    {
     "data": {
      "application/vnd.jupyter.widget-view+json": {
       "model_id": "",
       "version_major": 2,
       "version_minor": 0
      },
      "text/plain": [
       "Validation: |                                                                                    | 0/? [00:00<…"
      ]
     },
     "metadata": {},
     "output_type": "display_data"
    },
    {
     "data": {
      "image/png": "[encoded data removed]",
      "text/plain": [
       "<Figure size 1200x600 with 2 Axes>"
      ]
     },
     "metadata": {},
     "output_type": "display_data"
    }
   ],
   "source": [
    "trainer.fit(my_model, train_dataloaders=train_loader, val_dataloaders=val_loader)"
   ]
  },
  {
   "cell_type": "markdown",
   "id": "bafe58bb-124f-4243-97f6-3a246243d472",
   "metadata": {},
   "source": [
    "### Trained Model Performance"
   ]
  },
  {
   "cell_type": "code",
   "execution_count": 26,
   "id": "815b6788-77ec-4c09-9cf8-50e47504fdb3",
   "metadata": {},
   "outputs": [
    {
     "name": "stdout",
     "output_type": "stream",
     "text": [
      "Best model saved at: C:\\Users\\MiestoMeska\\Desktop\\Mokslai\\TC\\Module4\\Sprint_2\\Project\\vruzga-DL.2.5\\models\\baseline_model\\base_model_freezed.ckpt\n",
      "Best val_macro_f1 score: tensor(0.3049, device='cuda:0')\n"
     ]
    }
   ],
   "source": [
    "print(\"Best model saved at:\", checkpoint_callback.best_model_path)\n",
    "print(\"Best val_macro_f1 score:\", checkpoint_callback.best_model_score)"
   ]
  },
  {
   "cell_type": "code",
   "execution_count": 25,
   "id": "3187b9e1-77a9-435b-b9fe-0f1870a16601",
   "metadata": {},
   "outputs": [
    {
     "name": "stderr",
     "output_type": "stream",
     "text": [
      "GPU available: True (cuda), used: True\n"
     ]
    },
    {
     "name": "stdout",
     "output_type": "stream",
     "text": [
      "Model loaded.\n"
     ]
    },
    {
     "name": "stderr",
     "output_type": "stream",
     "text": [
      "TPU available: False, using: 0 TPU cores\n",
      "HPU available: False, using: 0 HPUs\n",
      "LOCAL_RANK: 0 - CUDA_VISIBLE_DEVICES: [0]\n"
     ]
    },
    {
     "data": {
      "application/vnd.jupyter.widget-view+json": {
       "model_id": "3e0682fde54f41568855e63b83b87115",
       "version_major": 2,
       "version_minor": 0
      },
      "text/plain": [
       "Validation: |                                                                                    | 0/? [00:00<…"
      ]
     },
     "metadata": {},
     "output_type": "display_data"
    },
    {
     "name": "stdout",
     "output_type": "stream",
     "text": [
      "────────────────────────────────────────────────────────────────────────────────────────────────────────────────────────\n",
      "     Validate metric           DataLoader 0\n",
      "────────────────────────────────────────────────────────────────────────────────────────────────────────────────────────\n",
      "         val_acc            0.9661016464233398\n",
      "        val_auroc           0.7838389277458191\n",
      "        val_loss           0.014959048479795456\n",
      "      val_macro_f1          0.30491578578948975\n",
      "────────────────────────────────────────────────────────────────────────────────────────────────────────────────────────\n"
     ]
    },
    {
     "data": {
      "text/plain": [
       "[{'val_loss': 0.014959048479795456,\n",
       "  'val_acc': 0.9661016464233398,\n",
       "  'val_auroc': 0.7838389277458191,\n",
       "  'val_macro_f1': 0.30491578578948975}]"
      ]
     },
     "execution_count": 25,
     "metadata": {},
     "output_type": "execute_result"
    }
   ],
   "source": [
    "best_model_path = checkpoint_callback.best_model_path\n",
    "trained_model = Base_pl_Model.load_from_checkpoint(best_model_path, model=model, class_weights=class_weights_tensor)\n",
    "print(f\"Model loaded.\")\n",
    "trained_model = Base_pl_Model.load_from_checkpoint(checkpoint_path, model=model, class_weights=class_weights_tensor)\n",
    "trainer = Trainer(logger=False)\n",
    "trained_model.trainer = trainer\n",
    "trainer.validate(trained_model, dataloaders=val_loader)"
   ]
  },
  {
   "cell_type": "markdown",
   "id": "c6d786c2-5b0a-4e43-bf9e-623a8a723952",
   "metadata": {},
   "source": [
    "The model shows promising results in terms of accuracy (96.6%) and AUROC (78.4%), indicating good performance in distinguishing between toxic and non-toxic comments. However, the macro F1 score (30.5%) is relatively low, reflecting challenges in handling the class imbalance, particularly for the underrepresented toxicity categories. While the loss curves indicate strong convergence and low validation loss, the imbalance remains an issue, especially in correctly predicting the minority classes. Future steps should focus on advanced model tuning to enhance F1 performance across all labels."
   ]
  },
  {
   "cell_type": "code",
   "execution_count": null,
   "id": "612c1b55-8668-4076-8ed3-fd190c4e6fb8",
   "metadata": {},
   "outputs": [],
   "source": []
  }
 ],
 "metadata": {
  "kernelspec": {
   "display_name": "Python 3 (ipykernel)",
   "language": "python",
   "name": "python3"
  },
  "language_info": {
   "codemirror_mode": {
    "name": "ipython",
    "version": 3
   },
   "file_extension": ".py",
   "mimetype": "text/x-python",
   "name": "python",
   "nbconvert_exporter": "python",
   "pygments_lexer": "ipython3",
   "version": "3.10.14"
  }
 },
 "nbformat": 4,
 "nbformat_minor": 5
}
